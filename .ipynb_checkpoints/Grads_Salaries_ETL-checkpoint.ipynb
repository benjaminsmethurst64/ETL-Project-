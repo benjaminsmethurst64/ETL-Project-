{
 "cells": [
  {
   "cell_type": "code",
   "execution_count": null,
   "metadata": {},
   "outputs": [],
   "source": [
    "#Dependencies\n",
    "import pandas as pd\n",
    "from sqlalchemy import create_engine"
   ]
  },
  {
   "cell_type": "markdown",
   "metadata": {},
   "source": [
    "## Extract CSVs into DataFrames"
   ]
  },
  {
   "cell_type": "code",
   "execution_count": null,
   "metadata": {},
   "outputs": [],
   "source": [
    "salaries_file = 'Resources/degrees-that-pay-back.csv'\n",
    "grads_file = 'Resources/recent-grads.csv'"
   ]
  },
  {
   "cell_type": "code",
   "execution_count": null,
   "metadata": {},
   "outputs": [],
   "source": [
    "salaries_df = pd.read_csv(salaries_file)\n",
    "salaries_df['id'] = salaries_df.index\n",
    "salaries_df.head()"
   ]
  },
  {
   "cell_type": "code",
   "execution_count": null,
   "metadata": {},
   "outputs": [],
   "source": [
    "grads_df = pd.read_csv(grads_file,index_col=False)\n",
    "grads_df['id'] = grads_df.index\n",
    "grads_df.head()"
   ]
  },
  {
   "cell_type": "markdown",
   "metadata": {},
   "source": [
    "## Transform DataFrames"
   ]
  },
  {
   "cell_type": "code",
   "execution_count": null,
   "metadata": {},
   "outputs": [],
   "source": [
    "salaries_df_cols =[\"id\",\"Undergraduate Major\", \"Starting Median Salary\", \"Mid-Career Median Salary\", \"Mid-Career 10th Percentile Salary\", \"Mid-Career 90th Percentile Salary\" ]\n",
    "salaries_transformed = salaries_df[salaries_df_cols].copy()\n",
    "\n",
    "salaries_transformed_rename = salaries_transformed.rename(columns={\"id\":\"id\",\n",
    "                                                                   \"Undergraduate Major\": \"major\",\n",
    "                                                                    \"Starting Median Salary\": \"starting_median\",\n",
    "                                                                     \"Mid-Career Median Salary\": \"mid_sal_median\",\n",
    "                                                                     \"Mid-Career 10th Percentile Salary\": \"mid_sal_lower\",\n",
    "                                                                      \"Mid-Career 90th Percentile Salary\": \"mid_sal_upper\" })\n",
    "\n",
    "salaries_transformed_rename[\"major\"] = salaries_transformed_rename[\"major\"].str.upper()\n",
    "salaries_transformed_rename.reset_index(drop=True)\n",
    "salaries_transformed_rename.set_index(\"id\",inplace=True)\n",
    "salaries_transformed_rename.head()"
   ]
  },
  {
   "cell_type": "code",
   "execution_count": null,
   "metadata": {},
   "outputs": [],
   "source": [
    "grads_df_cols=[\"id\",\"Rank\",\"Major\", \"Total\", \"Employed\"]\n",
    "grads_transformed = grads_df[grads_df_cols].copy()\n",
    "\n",
    "grads_transformed_rename = grads_transformed.rename(columns={\"id\":\"id\",\n",
    "                                                             \"Rank\": \"rank\",\n",
    "                                                         \"Major\": \"major\",\n",
    "                                                         \"Total\": \"total_grads\",\n",
    "                                                         \"Employed\": \"employed\",\n",
    "                                                            })\n",
    "\n",
    "grads_transformed_rename.reset_index(drop=True)\n",
    "grads_transformed_rename.set_index(\"id\",inplace=True)\n",
    "grads_transformed_rename.head()"
   ]
  },
  {
   "cell_type": "code",
   "execution_count": null,
   "metadata": {},
   "outputs": [],
   "source": [
    "#Create Database Connection:\n",
    "connection_string = \"postgres:postgres@localhost:5432/graduate_db\"\n",
    "engine = create_engine(f'postgresql://{connection_string}')"
   ]
  },
  {
   "cell_type": "code",
   "execution_count": null,
   "metadata": {},
   "outputs": [],
   "source": [
    "engine.table_names()"
   ]
  },
  {
   "cell_type": "code",
   "execution_count": null,
   "metadata": {},
   "outputs": [],
   "source": [
    "grads_transformed_rename.to_sql(name='grads', con=engine, if_exists='append', index=True) "
   ]
  },
  {
   "cell_type": "code",
   "execution_count": null,
   "metadata": {},
   "outputs": [],
   "source": [
    "salaries_transformed_rename.to_sql(name='salary', con=engine, if_exists='append', index=True) "
   ]
  },
  {
   "cell_type": "markdown",
   "metadata": {},
   "source": [
    "## Import combined query table and transform currency values to numeric"
   ]
  },
  {
   "cell_type": "code",
   "execution_count": null,
   "metadata": {},
   "outputs": [],
   "source": [
    "combined = 'Resources/combined.csv'\n",
    "combined_df = pd.read_csv(combined)\n",
    "combined_df[\"starting_median\"] = (combined_df['starting_median'].replace( '[\\$,)]','', regex=True ).replace( '[(]','-', regex=True ).astype(float))\n",
    "combined_df[\"mid_sal_median\"] = (combined_df['mid_sal_median'].replace( '[\\$,)]','', regex=True ).replace( '[(]','-', regex=True ).astype(float))\n",
    "combined_df[\"mid_sal_lower\"] = (combined_df['mid_sal_lower'].replace( '[\\$,)]','', regex=True ).replace( '[(]','-', regex=True ).astype(float))\n",
    "combined_df[\"mid_sal_upper\"] = (combined_df['mid_sal_upper'].replace( '[\\$,)]','', regex=True ).replace( '[(]','-', regex=True ).astype(float))\n",
    "\n",
    "combined_df"
   ]
  },
  {
   "cell_type": "code",
   "execution_count": null,
   "metadata": {},
   "outputs": [],
   "source": [
    "%matplotlib inline\n",
    "import matplotlib.pyplot as plt\n",
    "import numpy as np"
   ]
  },
  {
   "cell_type": "markdown",
   "metadata": {},
   "source": [
    "### Expected Starting Salaries"
   ]
  },
  {
   "cell_type": "code",
   "execution_count": null,
   "metadata": {},
   "outputs": [],
   "source": [
    "fig, ax = plt.subplots()\n",
    "multi = ['#2a5495', '#07a64c', '#e979ad', '#d88432', '#2a5495',\n",
    "               '#b7040e', '#82c5db', '#cd065d', '#b9c09b', '#4b117f']\n",
    "major_values = combined_df[\"major\"]\n",
    "salary_values = combined_df[\"starting_median\"].sort_values(ascending=False)\n",
    "ax.bar(major_values, salary_values, align=\"center\", color = multi)\n",
    "ax.set_title(\"Median Starting Salary by Major\", fontsize=14)\n",
    "ax.set_xlabel(\"Major\", fontsize=14)\n",
    "ax.set_ylabel(\"Starting Median Salary ($)\", fontsize=14)\n",
    "ax.set_xticklabels(major_values, rotation=90, weight='bold', va=\"center\", ha=\"center\")\n",
    "ax.tick_params(axis=\"x\", pad=-159)\n",
    "ax.grid()\n",
    "plt.subplots_adjust(bottom=-0.5, right=1.2)\n",
    "plt.savefig(\"Resources/salary_bar_chart.png\", bbox_inches='tight')\n",
    "plt.show()"
   ]
  },
  {
   "cell_type": "markdown",
   "metadata": {},
   "source": [
    "### Expected Salary Trajectories"
   ]
  },
  {
   "cell_type": "code",
   "execution_count": null,
   "metadata": {},
   "outputs": [],
   "source": [
    "%matplotlib inline\n",
    "import matplotlib.pyplot as plt\n",
    "import numpy as np\n",
    "\n",
    "#Plot salary trajectories for selected majors\n",
    "# selected_majors = [\"CHEMICAL ENGINEERING\", \"CIVIL ENGINEERING\", \"PHYSICS\", \"JOURNALISM\", \"SOCIOLOGY\", \"MUSIC\"]\n",
    "salary_types = [\"Starting_Median\", \"Mid_Lower\", \"Mid-Career_Median\", \"Mid_Upper\" ]\n",
    "\n",
    "#-----------------------\n",
    "CHEM_ENG_values = combined_df[[\"starting_median\", \"mid_sal_lower\", \"mid_sal_median\", \"mid_sal_upper\"]].loc[combined_df['major']==\"CHEMICAL ENGINEERING\"]\n",
    "CIV_ENG_values = combined_df[[\"starting_median\", \"mid_sal_lower\", \"mid_sal_median\", \"mid_sal_upper\"]].loc[combined_df['major']==\"CIVIL ENGINEERING\"] \n",
    "PHYSICS_values = combined_df[[\"starting_median\", \"mid_sal_lower\", \"mid_sal_median\", \"mid_sal_upper\"]].loc[combined_df['major']==\"PHYSICS\"] \n",
    "JOURNALISM_values = combined_df[[\"starting_median\", \"mid_sal_lower\", \"mid_sal_median\", \"mid_sal_upper\"]].loc[combined_df['major']==\"JOURNALISM\"] \n",
    "SOCIOLOGY_values = combined_df[[\"starting_median\", \"mid_sal_lower\", \"mid_sal_median\", \"mid_sal_upper\"]].loc[combined_df['major']==\"SOCIOLOGY\"] \n",
    "MUSIC_values = combined_df[[\"starting_median\", \"mid_sal_lower\", \"mid_sal_median\", \"mid_sal_upper\"]].loc[combined_df['major']==\"MUSIC\"] \n",
    "#-----------------------\n",
    "\n",
    "CHEM_ENG_handle, = plt.plot(salary_types, CHEM_ENG_values.iloc[0], marker=\"^\", color=\"#2a5495\", label=\"CHEM_ENG\")\n",
    "CIV_ENG_handle = plt.plot(salary_types, CIV_ENG_values.iloc[0], marker=\".\", color=\"#82c5db\", label=\"CIV_ENG\")\n",
    "PHYSICS_handle = plt.plot(salary_types, PHYSICS_values.iloc[0], marker = \"+\", color=\"#07a64c\", label=\"PHYSICS\")\n",
    "JOURNALISM_handle = plt.plot(salary_types, JOURNALISM_values.iloc[0], marker= \"*\", color=\"#cd065d\", label=\"JOURNALISM\")\n",
    "SOCIOLOGY_handle = plt.plot(salary_types, SOCIOLOGY_values.iloc[0], marker = \"^\", color =\"yellowgreen\" , label=\"SOCIOLOGY\")\n",
    "MUSIC_handle = plt.plot(salary_types, MUSIC_values.iloc[0], marker ='+', color=\"orange\", label = \"MUSIC\")\n",
    "\n",
    "plt.xlabel(\"Salary Type\", fontsize=14)\n",
    "plt.ylabel(\"Salary($)\", fontsize=14)\n",
    "plt.grid()\n",
    "plt.legend()\n",
    "plt.title(\"Salary Trajectories for Selected Majors\", fontsize=14)\n",
    "plt.savefig(\"Resources/salary_trajectories.png\")\n",
    "plt.show()"
   ]
  }
 ],
 "metadata": {
  "kernelspec": {
   "display_name": "Python 3",
   "language": "python",
   "name": "python3"
  },
  "language_info": {
   "codemirror_mode": {
    "name": "ipython",
    "version": 3
   },
   "file_extension": ".py",
   "mimetype": "text/x-python",
   "name": "python",
   "nbconvert_exporter": "python",
   "pygments_lexer": "ipython3",
   "version": "3.6.9"
  }
 },
 "nbformat": 4,
 "nbformat_minor": 2
}
