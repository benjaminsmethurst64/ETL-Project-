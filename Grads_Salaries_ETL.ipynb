{
 "cells": [
  {
   "cell_type": "code",
   "execution_count": null,
   "metadata": {},
   "outputs": [],
   "source": [
    "#Dependencies\n",
    "import pandas as pd\n",
    "from sqlalchemy import create_engine"
   ]
  },
  {
   "cell_type": "markdown",
   "metadata": {},
   "source": [
    "## Extract CSVs into DataFrames"
   ]
  },
  {
   "cell_type": "code",
   "execution_count": null,
   "metadata": {},
   "outputs": [],
   "source": [
    "salaries_file = 'Resources/degrees-that-pay-back.csv'\n",
    "grads_file = 'Resources/recent-grads.csv'"
   ]
  },
  {
   "cell_type": "code",
   "execution_count": null,
   "metadata": {},
   "outputs": [],
   "source": [
    "salaries_df = pd.read_csv(salaries_file)\n",
    "salaries_df.head()"
   ]
  },
  {
   "cell_type": "code",
   "execution_count": null,
   "metadata": {},
   "outputs": [],
   "source": [
    "grads_df = pd.read_csv(grads_file)\n",
    "grads_df.head()"
   ]
  },
  {
   "cell_type": "markdown",
   "metadata": {},
   "source": [
    "## Transform DataFrames"
   ]
  },
  {
   "cell_type": "code",
   "execution_count": null,
   "metadata": {},
   "outputs": [],
   "source": [
    "salaries_df_cols =[\"Undergraduate Major\", \"Starting Median Salary\", \"Mid-Career Median Salary\", \"Mid-Career 10th Percentile Salary\", \"Mid-Career 90th Percentile Salary\" ]\n",
    "salaries_transformed = salaries_df[salaries_df_cols].copy()\n",
    "\n",
    "salaries_transformed_rename = salaries_transformed.rename(columns={\"Undergraduate Major\": \"major\",\n",
    "                                                                    \"Starting Median Salary\": \"starting_median\",\n",
    "                                                                     \"Mid-Career Median Salary\": \"mid_sal_median\",\n",
    "                                                                     \"Mid-Career 10th Percentile Salary\": \"mid_sal_lower\",\n",
    "                                                                      \"Mid-Career 90th Percentile Salary\": \"mid_sal_upper\" })\n",
    "\n",
    "#grads_transformed_rename.drop_duplicates(\"id\", inplace=True)\n",
    "#grads_transformed_rename.set_index(\"id\", inplace=True)\n",
    "\n",
    "salaries_transformed_rename.head()"
   ]
  },
  {
   "cell_type": "code",
   "execution_count": null,
   "metadata": {},
   "outputs": [],
   "source": [
    "grads_df_cols=[\"Rank\",\"Major\", \"Total\", \"Employed\"]\n",
    "grads_transformed = grads_df[grads_df_cols].copy()\n",
    "\n",
    "grads_transformed_rename = grads_transformed.rename(columns={\"Rank\": \"rank\",\n",
    "                                                         \"Major\": \"major\",\n",
    "                                                         \"Total\": \"total_grads\",\n",
    "                                                         \"Employed\": \"employed\"})\n",
    "\n",
    "#grads_transformed_rename.drop_duplicates(\"id\", inplace=True)\n",
    "#grads_transformed_rename.set_index(\"id\", inplace=True)\n",
    "\n",
    "grads_transformed_rename.head()"
   ]
  },
  {
   "cell_type": "code",
   "execution_count": null,
   "metadata": {},
   "outputs": [],
   "source": [
    "#Create Database Connection:\n",
    "connection_string = \"postgres:postgres@localhost:5432/graduate_db\"\n",
    "engine = create_engine(f'postgresql://{connection_string}')"
   ]
  },
  {
   "cell_type": "code",
   "execution_count": null,
   "metadata": {},
   "outputs": [],
   "source": [
    "engine.table_names()"
   ]
  },
  {
   "cell_type": "code",
   "execution_count": null,
   "metadata": {},
   "outputs": [],
   "source": [
    "grads_transformed_rename.to_sql(name='grads', con=engine, if_exists='append', index=True) "
   ]
  },
  {
   "cell_type": "code",
   "execution_count": null,
   "metadata": {},
   "outputs": [],
   "source": []
  }
 ],
 "metadata": {
  "kernelspec": {
   "display_name": "Python 3",
   "language": "python",
   "name": "python3"
  },
  "language_info": {
   "codemirror_mode": {
    "name": "ipython",
    "version": 3
   },
   "file_extension": ".py",
   "mimetype": "text/x-python",
   "name": "python",
   "nbconvert_exporter": "python",
   "pygments_lexer": "ipython3",
   "version": "3.6.9"
  }
 },
 "nbformat": 4,
 "nbformat_minor": 2
}
